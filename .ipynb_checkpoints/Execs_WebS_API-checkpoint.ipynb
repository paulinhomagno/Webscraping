{
 "cells": [
  {
   "cell_type": "markdown",
   "id": "e34d734f",
   "metadata": {},
   "source": [
    "Utilize a URL \"https://swapi.dev/api/people/4/\" para fazer a requisição dos dados de Darth Vader e \n",
    "extraia as informações \"name\" (nome), \"height\" (altura), \"mass\" (massa) e \"birth_year\" (ano de nascimento) e \n",
    "imprima cada dado em uma linha."
   ]
  },
  {
   "cell_type": "code",
   "execution_count": 1,
   "id": "40ffebdb-c0ea-4ce2-b10c-348520932121",
   "metadata": {},
   "outputs": [
    {
     "name": "stdout",
     "output_type": "stream",
     "text": [
      "Personagem: Darth Vader\n",
      "Altura: 202\n",
      "Peso: 136\n",
      "Nascimento: 41.9BBY\n"
     ]
    }
   ],
   "source": [
    "import requests\n",
    "\n",
    "resposta = requests.get('https://swapi.dev/api/people/4/')\n",
    "\n",
    "if resposta.status_code==200:\n",
    "    dicionario = resposta.json()\n",
    "    print('Personagem:',dicionario['name'])\n",
    "    print('Altura:',dicionario['height'])\n",
    "    print('Peso:',dicionario['mass'])\n",
    "    print('Nascimento:',dicionario['birth_year'])"
   ]
  },
  {
   "cell_type": "markdown",
   "id": "875adbe8",
   "metadata": {},
   "source": [
    "Em 2019 surgiram os primeiros casos de COVID-19 que se alastrou pelo mundo resultando numa pandemia. A proposta deste exercício é utilizar uma API com informações de COVID-19 do mundo todo desde o início da proliferação e descobrir que dia o Brasil confirmou o primeiro caso de Coronavírus.\n",
    "\n",
    "Para fazer isso, utilize a URL \"https://api.covid19api.com/country/brazil\" em seu código. Ela retorna uma lista de dicionários, onde cada dicionário traz informações através das chaves:\n",
    "\n",
    "\"ID\", \"Country\", \"CountryCode\", \"Province\", \"City\", \"CityCode\",\"Lat\",\"Lon\",\"Confirmed\",\"Deaths\", \"Recovered\", \"Active\" e \"Date\".\n",
    "\n",
    "Utilize essas informações e retorne a data em que o Brasil confirmou o primeiro caso de COVID."
   ]
  },
  {
   "cell_type": "code",
   "execution_count": 2,
   "id": "fcab65e5-0abf-4048-bde8-6fb42e993d8e",
   "metadata": {},
   "outputs": [
    {
     "name": "stdout",
     "output_type": "stream",
     "text": [
      "Status code: 200\n",
      "2020-02-26T00:00:00Z\n"
     ]
    }
   ],
   "source": [
    "api_covid = requests.get('https://api.covid19api.com/country/brazil')\n",
    "# verifiacndo status code\n",
    "print('Status code:', api_covid.status_code)\n",
    "\n",
    "# status code ok (200) converte o retorno em dicionário\n",
    "if resposta.status_code==200:\n",
    "    dicionario = api_covid.json()\n",
    "    \n",
    "    # criando uma data bem a frente para na condicional retornar a menor data que o caso de covid conformado seja maior que 0\n",
    "    data_menor = '2022-01-01'\n",
    "    for x in dicionario:\n",
    "        if x['Confirmed'] > 0:\n",
    "            if x['Date'] < data_menor:\n",
    "                data_menor = x['Date']\n",
    "                \n",
    "    print(data_menor)"
   ]
  },
  {
   "cell_type": "markdown",
   "id": "dd840064",
   "metadata": {},
   "source": [
    "Faça um programa que busca os valores de um produto no mercado livre. \n",
    "Salve o nome e o respectivo valor desses produtos em um arquivo csv. \n",
    "Seu programa deve imprimir o produto mais caro, o mais barato e a média de preços \n",
    "(procure por um produto em particular e veja como se comporta o link e os objetos web \n",
    " que contém as informações de nome e preço do produto)."
   ]
  },
  {
   "cell_type": "code",
   "execution_count": 34,
   "id": "3079282d",
   "metadata": {},
   "outputs": [
    {
     "name": "stdout",
     "output_type": "stream",
     "text": [
      "Digite o produto: notebook\n",
      "Produto mais caro: Notebook Acer Aspire 3 A315-23 preta 15.6\", AMD Ryzen 5 3500U  12GB de RAM 1TB HDD, AMD Radeon Graphics 60 Hz 1366x768px Windows 10 Homepor VIKING ||| Valor R$ 5799.0\n",
      "Produto mais barato: Notebook gamer Acer Aspire Nitro 5 AN515-54 preta 15.6\", Intel Core i5 9300H  8GB de RAM 1TB HDD 128GB SSD, Nvidia GeForce GTX 1650 60 Hz 1920x1080px Windows 10 Homepor Mercado Livre ||| Valor R$ 1499.0\n",
      "A média de valor de notebook é R$ 2823.56\n"
     ]
    }
   ],
   "source": [
    "\n",
    "from bs4 import BeautifulSoup\n",
    "import csv\n",
    "\n",
    "produto = input('Digite o produto: ')\n",
    "url1 = 'https://lista.mercadolivre.com.br/'\n",
    "url2 = '_DisplayType_G'\n",
    "\n",
    "# agrupando a url com o item a pesquisar e utilizando parser para ler o html\n",
    "resposta = requests.get(url1 + produto + url2)\n",
    "\n",
    "pesquisa = BeautifulSoup(resposta.text, 'html.parser')\n",
    "\n",
    "produtos = pesquisa.find_all('div', class_='ui-search')\n",
    "\n",
    "# criando lista com titulos para apos converter em csv\n",
    "lista_produtos = [['Produto', 'Valor']]\n",
    "\n",
    "# variaveis de preço criadas para comparação e encontrar menor e maior preço\n",
    "menor = 10000\n",
    "maior = 1000\n",
    "\n",
    "# variavel para soma e contagem para realizar média\n",
    "soma = 0\n",
    "cont = 0\n",
    "\n",
    "# percorrendo a página para encontar nome do produto e valor\n",
    "for x in produtos:\n",
    "    ver_produto = x.find_all('div', class_='ui-search-item__group ui-search-item__group--title')\n",
    "    for y in ver_produto:\n",
    "                \n",
    "        valor = x.find_all('div', class_='ui-search-price__second-line')\n",
    "        for w in valor:\n",
    "            valores = w.find('span', class_='price-tag-amount')\n",
    "            \n",
    "            # as parcelas utilizam ',' assim o valor e o valor total não, \n",
    "            # condicional para adicionar somente o valor total\n",
    "            # do produto  lista\n",
    "            if not ',' in valores.text:\n",
    "                # adicionando o produto e seu valor na lista\n",
    "                lista_produtos.append([y.text,valores.text])\n",
    "                \n",
    "                # retirando o R$ para comparações\n",
    "                preco_br = float(valores.text.replace('R$', '').replace('.', ''))\n",
    "                soma += preco_br\n",
    "                cont+=1\n",
    "                #comparando mais o barato\n",
    "                if preco_br < menor:                    \n",
    "                    menor = preco_br\n",
    "                    produto_barato = y.text\n",
    "                #comparando mais o caro\n",
    "                elif preco_br > maior:\n",
    "                    maior = preco_br\n",
    "                    produto_caro = y.text\n",
    "\n",
    "print('Produto mais caro:', produto_caro, '||| Valor R$',maior )\n",
    "print('Produto mais barato:', produto_barato, '||| Valor R$',menor )\n",
    "print('A média de valor de', produto, 'é R$', round(soma/cont, 2)) \n",
    "# salvando a lista em csv\n",
    "arquivo = open('Produtos_ML.csv', 'w')\n",
    "escritor = csv.writer(arquivo, delimiter=';', lineterminator='\\n')\n",
    "escritor.writerows(lista_produtos)\n",
    "arquivo.close()\n",
    "\n"
   ]
  },
  {
   "cell_type": "markdown",
   "id": "a8053109",
   "metadata": {},
   "source": [
    "Faça um programa que pegue os próximos cursos e as respectivas datas em https://letscodeacademy.com/."
   ]
  },
  {
   "cell_type": "code",
   "execution_count": 1,
   "id": "98935f60",
   "metadata": {},
   "outputs": [
    {
     "data": {
      "text/plain": [
       "[['Curso', 'Descricao/PreReq', 'Carga H.'],\n",
       " ['Python & Dados',\n",
       "  'A principal linguagem para análise de dados, Data Science e Machine Learning.',\n",
       "  '<Trilha>'],\n",
       " ['Web Full Stack',\n",
       "  'Formação completa com as ferramentas mais modernas para o desenvolvimento de Web Apps.',\n",
       "  '<Trilha>'],\n",
       " ['Data Science Degree', 'Formação Técnica', ' 900h'],\n",
       " ['Web Full Stack Degree', 'Formação Técnica', ' 1160h'],\n",
       " ['Python', 'Nenhum', ' 48h'],\n",
       " ['Web Front-End & React', 'Nenhum', ' 72h'],\n",
       " ['Data Science &  Inteligência Artificial', 'Python', ' 72h'],\n",
       " ['Java', 'Nenhum', ' 72h']]"
      ]
     },
     "execution_count": 1,
     "metadata": {},
     "output_type": "execute_result"
    }
   ],
   "source": [
    "planilha = [ ['Curso', 'Descricao/PreReq', 'Carga H.']]\n",
    "\n",
    "# solicita o recurso (site)\n",
    "resposta = requests.get('https://letscode.com.br/')\n",
    "\n",
    "html = resposta.text\n",
    "\n",
    "# criando um objeto BeautifulSoup:\n",
    "sopa = BeautifulSoup(html, 'html.parser') \n",
    "\n",
    "# utilizando o método .find_all que retorna todas as ocorrencias da pesquisa\n",
    "cursos = sopa.find_all('div', class_='card')\n",
    "\n",
    "for curso in cursos:\n",
    "    titulo = curso.find('p', class_='card__text__title')\n",
    "    if titulo == None:\n",
    "        textoTitulo = '<Sem Titulo>'\n",
    "    else:\n",
    "        textoTitulo = titulo.text\n",
    "\n",
    "    infos = curso.find_all('p', style='font-weight:400')\n",
    "    \n",
    "    if len(infos) == 0:\n",
    "        \n",
    "        infos = curso.find_all('p', class_='card__text__desc')\n",
    "        \n",
    "        if len(infos) == 0:\n",
    "            prereq = '<sem pre-req>'\n",
    "            carga = '<sem carga>'\n",
    "        elif len(infos) == 1:\n",
    "            prereq = infos[0].text\n",
    "            carga = '<Trilha>'\n",
    "        else:\n",
    "            prereq = infos[0].text\n",
    "            carga = infos[1].text\n",
    "        \n",
    "    else:\n",
    "        prereq = infos[0].text\n",
    "        carga = infos[1].text\n",
    "        \n",
    "    planilha.append([textoTitulo, prereq, carga])\n",
    "planilha\n"
   ]
  },
  {
   "cell_type": "markdown",
   "id": "a7ecd94c",
   "metadata": {},
   "source": [
    "Você deve realizar consultas através do link: http://api.openweathermap.org/data/2.5/weather?q={NOME_DA_CIDADE}&appid={CHAVE_DE_ACESSO}&units=metric\n",
    "\n",
    "Substituindo NOME_DA_CIDADE pelo nome da cidade desejada e CHAVE_DE_ACESSO pela seguinte string:\n",
    "\n",
    "cb926da04c58d12e68807544e9a35f6c\n",
    "Usando a Open Weather API, faça uma função que receba um nome de uma cidade e imprima a temperatura máxima e mínima, a umidade, a descrição do tempo e o horário da última atualização."
   ]
  },
  {
   "cell_type": "code",
   "execution_count": null,
   "id": "dd53ef11",
   "metadata": {},
   "outputs": [],
   "source": []
  }
 ],
 "metadata": {
  "kernelspec": {
   "display_name": "Python 3",
   "language": "python",
   "name": "python3"
  },
  "language_info": {
   "codemirror_mode": {
    "name": "ipython",
    "version": 3
   },
   "file_extension": ".py",
   "mimetype": "text/x-python",
   "name": "python",
   "nbconvert_exporter": "python",
   "pygments_lexer": "ipython3",
   "version": "3.8.8"
  }
 },
 "nbformat": 4,
 "nbformat_minor": 5
}
