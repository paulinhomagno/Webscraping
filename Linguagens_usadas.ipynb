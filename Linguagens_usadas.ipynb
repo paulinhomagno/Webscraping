{
 "cells": [
  {
   "cell_type": "markdown",
   "id": "1078ac6e",
   "metadata": {},
   "source": [
    "### Raspagem no site statistics time para buscar linguagens mais e menos usadas"
   ]
  },
  {
   "cell_type": "code",
   "execution_count": 2,
   "id": "6a841a18",
   "metadata": {},
   "outputs": [],
   "source": [
    "# bibliotecas usadas\n",
    "import pandas as pd\n",
    "import requests\n",
    "from bs4 import BeautifulSoup\n",
    "import csv"
   ]
  },
  {
   "cell_type": "code",
   "execution_count": 4,
   "id": "ac31e439",
   "metadata": {},
   "outputs": [
    {
     "name": "stdout",
     "output_type": "stream",
     "text": [
      "Status code: 200 \n",
      "\n",
      "\n",
      "\n"
     ]
    },
    {
     "data": {
      "text/plain": [
       " Python      12.90% \n",
       " C           11.80% \n",
       " Java        10.12% \n",
       " C++          7.73% \n",
       " C#           6.40% \n",
       "dtype: object"
      ]
     },
     "metadata": {},
     "output_type": "display_data"
    },
    {
     "data": {
      "text/plain": [
       " Visual Basic           5.40% \n",
       " JavaScript             2.30% \n",
       " Assembly language      2.25% \n",
       " SQL                    1.79% \n",
       " Swift                  1.76% \n",
       "dtype: object"
      ]
     },
     "execution_count": 4,
     "metadata": {},
     "output_type": "execute_result"
    }
   ],
   "source": [
    "resposta = requests.get('https://statisticstimes.com/tech/top-computer-languages.php')\n",
    "print('Status code:', resposta.status_code, '\\n\\n\\n') # status code para confirmar o sucesso na request\n",
    "html = resposta.text\n",
    "\n",
    "sopa = BeautifulSoup(html, 'html.parser') \n",
    "\n",
    "linguagensProg = sopa.find_all('tbody') # tag que possui as informações\n",
    "linguagens = [] # lista para adicionar as linguagens\n",
    "taxas = [] # lista para os valores de popularidade da linguagem\n",
    "\n",
    "# a tag tr estão todos os quadros da pagina, na primeira parte está o tabela da TIOBE por isso range 1 \n",
    "for x in range (1):\n",
    "    titulo = linguagensProg[x].find_all('tr')\n",
    "    \n",
    "    for y in range (10): # busca pelos primeiros dez linguagens/taxas\n",
    "                \n",
    "        titulo2 = titulo[y].find_all('td', class_='name') # classe com as linguagens\n",
    "        taxa = titulo[y].find_all('td', class_='data1') # classe que possui todos os numeros e taxas da tabela\n",
    "        for w in titulo2:                                 # a taxa esta na coluna 5 da tabela\n",
    "            \n",
    "            linguagens.append(w.text)  # adicionando LP à lista de linguagens  \n",
    "        # como a classe data1 possui todos os numeros da tabela e os que interessa estão na coluna 5\n",
    "        # necessario loop diferente do das linguagens\n",
    "        for z in taxa:\n",
    "            texto = z.text\n",
    "            \n",
    "            texto2 = texto.replace('%','')\n",
    "            # os numeros da coluna 5 se difere dos outros por possuir ponto e nao sinal de + ou menos\n",
    "            if '.' in texto2 and not ('-' in texto2 or '+' in texto2): #\n",
    "                taxas.append(z.text)                  \n",
    "            \n",
    "# convertendo as linguagens em indices e as taxas nos valores da Series\n",
    "serie = pd.Series(data=taxas, index=linguagens)\n",
    "print(serie.head(5)) # 5 primeiros valores\n",
    "serie.tail(5) # 5 ultimos valores"
   ]
  },
  {
   "cell_type": "code",
   "execution_count": null,
   "id": "d5695315",
   "metadata": {},
   "outputs": [],
   "source": []
  }
 ],
 "metadata": {
  "kernelspec": {
   "display_name": "Python 3",
   "language": "python",
   "name": "python3"
  },
  "language_info": {
   "codemirror_mode": {
    "name": "ipython",
    "version": 3
   },
   "file_extension": ".py",
   "mimetype": "text/x-python",
   "name": "python",
   "nbconvert_exporter": "python",
   "pygments_lexer": "ipython3",
   "version": "3.8.8"
  }
 },
 "nbformat": 4,
 "nbformat_minor": 5
}
